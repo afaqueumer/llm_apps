{
 "cells": [
  {
   "cell_type": "markdown",
   "id": "0b02a396",
   "metadata": {},
   "source": [
    "## Using Gemini SDK"
   ]
  },
  {
   "cell_type": "code",
   "execution_count": 7,
   "id": "482f901d",
   "metadata": {},
   "outputs": [],
   "source": [
    "# -----------------------------------------------\n",
    "# ✅ Step 1: Import Required Libraries\n",
    "# -----------------------------------------------\n",
    "from dotenv import load_dotenv\n",
    "import os\n",
    "from google import genai  # Gemini SDK\n"
   ]
  },
  {
   "cell_type": "code",
   "execution_count": 8,
   "id": "ea085be6",
   "metadata": {},
   "outputs": [],
   "source": [
    "# -----------------------------------------------\n",
    "# ✅ Step 2: Load API Key from .env File\n",
    "# -----------------------------------------------\n",
    "load_dotenv()\n",
    "api_key = os.getenv(\"GEMINI_API_KEY\")"
   ]
  },
  {
   "cell_type": "code",
   "execution_count": 9,
   "id": "493ec4d5",
   "metadata": {},
   "outputs": [],
   "source": [
    "# -----------------------------------------------\n",
    "# ✅ Step 3: Initialize the Gemini Client\n",
    "# -----------------------------------------------\n",
    "client = genai.Client(api_key=api_key)"
   ]
  },
  {
   "cell_type": "code",
   "execution_count": 10,
   "id": "97f8260a",
   "metadata": {},
   "outputs": [],
   "source": [
    "# -----------------------------------------------\n",
    "# ✅ Step 4: Generate a Simple Text Response\n",
    "# -----------------------------------------------\n",
    "response = client.models.generate_content(\n",
    "    model=\"gemini-2.5-flash-lite\",  # You can change model name (e.g., \"gemini-2.0-pro\")\n",
    "    contents=\"Explain how AI works in a few words\",\n",
    ")"
   ]
  },
  {
   "cell_type": "code",
   "execution_count": 11,
   "id": "3395007b",
   "metadata": {},
   "outputs": [
    {
     "name": "stdout",
     "output_type": "stream",
     "text": [
      "candidates=[Candidate(content=Content(parts=[Part(video_metadata=None, thought=None, inline_data=None, code_execution_result=None, executable_code=None, file_data=None, function_call=None, function_response=None, text='AI learns from data to make decisions or predictions.')], role='model'), citation_metadata=None, finish_message=None, token_count=None, finish_reason=<FinishReason.STOP: 'STOP'>, avg_logprobs=None, grounding_metadata=None, index=0, logprobs_result=None, safety_ratings=None)] create_time=None response_id=None model_version='gemini-2.5-flash-lite' prompt_feedback=None usage_metadata=GenerateContentResponseUsageMetadata(cache_tokens_details=None, cached_content_token_count=None, candidates_token_count=10, candidates_tokens_details=None, prompt_token_count=9, prompt_tokens_details=[ModalityTokenCount(modality=<MediaModality.TEXT: 'TEXT'>, token_count=9)], thoughts_token_count=None, tool_use_prompt_token_count=None, tool_use_prompt_tokens_details=None, total_token_count=19, traffic_type=None) automatic_function_calling_history=[] parsed=None\n",
      "AI learns from data to make decisions or predictions.\n"
     ]
    }
   ],
   "source": [
    "# -----------------------------------------------\n",
    "# ✅ Step 5: Display the Response\n",
    "# -----------------------------------------------\n",
    "print(response)\n",
    "print(response.text)"
   ]
  },
  {
   "cell_type": "markdown",
   "id": "bb42769a",
   "metadata": {},
   "source": [
    "## Using Langchain wrapper"
   ]
  },
  {
   "cell_type": "code",
   "execution_count": 21,
   "id": "e345aff6",
   "metadata": {},
   "outputs": [
    {
     "name": "stderr",
     "output_type": "stream",
     "text": [
      "E0000 00:00:1759900592.694475 1857981 alts_credentials.cc:93] ALTS creds ignored. Not running on GCP and untrusted ALTS is not enabled.\n"
     ]
    },
    {
     "name": "stdout",
     "output_type": "stream",
     "text": [
      "AI learns from data to make predictions or decisions.\n"
     ]
    }
   ],
   "source": [
    "# -----------------------------------------------\n",
    "# ✅ Step 1: Import LLM Interface\n",
    "# -----------------------------------------------\n",
    "from langchain_google_genai import GoogleGenerativeAI\n",
    "from dotenv import load_dotenv\n",
    "import os\n",
    "\n",
    "# -----------------------------------------------\n",
    "# ✅ Step 2: Load API Key\n",
    "# -----------------------------------------------\n",
    "load_dotenv()\n",
    "api_key = os.getenv(\"GEMINI_API_KEY\")\n",
    "\n",
    "# -----------------------------------------------\n",
    "# ✅ Step 3: Initialize Gemini LLM\n",
    "# -----------------------------------------------\n",
    "llm = GoogleGenerativeAI(\n",
    "    model=\"gemini-2.5-flash-lite\",\n",
    "    temperature=0,     # Controls randomness\n",
    "    max_retries=2,     # Retry attempts for failed calls\n",
    "    api_key=api_key\n",
    ")\n",
    "\n",
    "# -----------------------------------------------\n",
    "# ✅ Step 4: Invoke the Model\n",
    "# -----------------------------------------------\n",
    "response = llm.invoke(\"Explain how AI works in a few words\")\n",
    "\n",
    "# -----------------------------------------------\n",
    "# ✅ Step 5: Display Output\n",
    "# -----------------------------------------------\n",
    "print(response)\n"
   ]
  },
  {
   "cell_type": "code",
   "execution_count": 22,
   "id": "2a8d4b2d",
   "metadata": {},
   "outputs": [
    {
     "name": "stderr",
     "output_type": "stream",
     "text": [
      "E0000 00:00:1759900596.434063 1857981 alts_credentials.cc:93] ALTS creds ignored. Not running on GCP and untrusted ALTS is not enabled.\n"
     ]
    },
    {
     "name": "stdout",
     "output_type": "stream",
     "text": [
      "content='AI learns from data to make predictions or decisions.' additional_kwargs={} response_metadata={'prompt_feedback': {'block_reason': 0, 'safety_ratings': []}, 'finish_reason': 'STOP', 'model_name': 'gemini-2.5-flash-lite', 'safety_ratings': []} id='run--9a4b0b65-0622-46e2-b224-5e9f6ea6a0e4-0' usage_metadata={'input_tokens': 9, 'output_tokens': 10, 'total_tokens': 19, 'input_token_details': {'cache_read': 0}}\n"
     ]
    }
   ],
   "source": [
    "# -----------------------------------------------\n",
    "# ✅ Step 1: Import Chat Interface\n",
    "# -----------------------------------------------\n",
    "from langchain_google_genai import ChatGoogleGenerativeAI\n",
    "from dotenv import load_dotenv\n",
    "import os\n",
    "\n",
    "# -----------------------------------------------\n",
    "# ✅ Step 2: Load API Key\n",
    "# -----------------------------------------------\n",
    "load_dotenv()\n",
    "api_key = os.getenv(\"GEMINI_API_KEY\")\n",
    "\n",
    "# -----------------------------------------------\n",
    "# ✅ Step 3: Initialize Chat Model\n",
    "# -----------------------------------------------\n",
    "chat_model = ChatGoogleGenerativeAI(\n",
    "    model=\"gemini-2.5-flash-lite\",\n",
    "    temperature=0,\n",
    "    max_retries=2,\n",
    "    api_key=api_key\n",
    ")\n",
    "\n",
    "# -----------------------------------------------\n",
    "# ✅ Step 4: Invoke Chat Model\n",
    "# -----------------------------------------------\n",
    "response_chat = chat_model.invoke(\"Explain how AI works in a few words\")\n",
    "\n",
    "# -----------------------------------------------\n",
    "# ✅ Step 5: Display Chat Output\n",
    "# -----------------------------------------------\n",
    "print(response_chat)\n"
   ]
  },
  {
   "cell_type": "code",
   "execution_count": 23,
   "id": "3f3a9eb8",
   "metadata": {},
   "outputs": [
    {
     "name": "stdout",
     "output_type": "stream",
     "text": [
      "AI learns from data to make predictions or decisions.\n"
     ]
    }
   ],
   "source": [
    "print(response)"
   ]
  },
  {
   "cell_type": "code",
   "execution_count": 24,
   "id": "4ac1defe",
   "metadata": {},
   "outputs": [
    {
     "name": "stdout",
     "output_type": "stream",
     "text": [
      "content='AI learns from data to make predictions or decisions.' additional_kwargs={} response_metadata={'prompt_feedback': {'block_reason': 0, 'safety_ratings': []}, 'finish_reason': 'STOP', 'model_name': 'gemini-2.5-flash-lite', 'safety_ratings': []} id='run--9a4b0b65-0622-46e2-b224-5e9f6ea6a0e4-0' usage_metadata={'input_tokens': 9, 'output_tokens': 10, 'total_tokens': 19, 'input_token_details': {'cache_read': 0}}\n"
     ]
    }
   ],
   "source": [
    "print(response_chat)"
   ]
  }
 ],
 "metadata": {
  "kernelspec": {
   "display_name": "dev",
   "language": "python",
   "name": "python3"
  },
  "language_info": {
   "codemirror_mode": {
    "name": "ipython",
    "version": 3
   },
   "file_extension": ".py",
   "mimetype": "text/x-python",
   "name": "python",
   "nbconvert_exporter": "python",
   "pygments_lexer": "ipython3",
   "version": "3.11.13"
  }
 },
 "nbformat": 4,
 "nbformat_minor": 5
}
